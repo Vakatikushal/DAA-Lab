{
 "cells": [
  {
   "cell_type": "code",
   "execution_count": 1,
   "metadata": {},
   "outputs": [
    {
     "name": "stdout",
     "output_type": "stream",
     "text": [
      "Maximum benefit: 240.0\n"
     ]
    }
   ],
   "source": [
    "def fractional_knapsack_renamed(items_list, knapsack_capacity):\n",
    "    items_list.sort(key=lambda x: x[0]/x[1], reverse=True)    \n",
    "    total_benefit = 0\n",
    "    remaining_capacity = knapsack_capacity\n",
    "    \n",
    "    for value, weight in items_list:\n",
    "        if weight <= remaining_capacity:\n",
    "            total_benefit += value\n",
    "            remaining_capacity -= weight\n",
    "        else:\n",
    "            fraction = remaining_capacity / weight\n",
    "            total_benefit += value * fraction\n",
    "            break  \n",
    "        \n",
    "    return total_benefit\n",
    "\n",
    "items_list = [(60, 10), (100, 20), (120, 30)]\n",
    "knapsack_capacity = 50\n",
    "print(\"Maximum benefit:\", fractional_knapsack_renamed(items_list, knapsack_capacity))\n"
   ]
  },
  {
   "cell_type": "code",
   "execution_count": 2,
   "metadata": {},
   "outputs": [
    {
     "name": "stdout",
     "output_type": "stream",
     "text": [
      "Maximum sum of products: 40\n"
     ]
    }
   ],
   "source": [
    "def max_sum_of_products_renamed(array):\n",
    "    array.sort()\n",
    "    n = len(array)\n",
    "    result = sum(array[i] * i for i in range(n))\n",
    "    return result\n",
    "\n",
    "array = [2, 5, 3, 4, 0]\n",
    "print(\"Maximum sum of products:\", max_sum_of_products_renamed(array))\n"
   ]
  },
  {
   "cell_type": "code",
   "execution_count": 3,
   "metadata": {},
   "outputs": [
    {
     "name": "stdout",
     "output_type": "stream",
     "text": [
      "Minimum sum of products: 104\n"
     ]
    }
   ],
   "source": [
    "def min_sum_of_products(array_one, array_two):\n",
    "    array_one.sort()\n",
    "    array_two.sort(reverse=True)\n",
    "    return sum(a * b for a, b in zip(array_one, array_two))\n",
    "\n",
    "array_one = [7, 5, 1, 4]\n",
    "array_two = [6, 17, 9, 3]\n",
    "print(\"Minimum sum of products:\", min_sum_of_products(array_one, array_two))\n"
   ]
  }
 ],
 "metadata": {
  "kernelspec": {
   "display_name": "Python 3",
   "language": "python",
   "name": "python3"
  },
  "language_info": {
   "codemirror_mode": {
    "name": "ipython",
    "version": 3
   },
   "file_extension": ".py",
   "mimetype": "text/x-python",
   "name": "python",
   "nbconvert_exporter": "python",
   "pygments_lexer": "ipython3",
   "version": "3.12.0"
  }
 },
 "nbformat": 4,
 "nbformat_minor": 2
}
