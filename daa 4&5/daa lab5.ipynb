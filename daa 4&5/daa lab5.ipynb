{
 "cells": [
  {
   "cell_type": "code",
   "execution_count": null,
   "metadata": {},
   "outputs": [],
   "source": [
    "def distribute_candies(num_students, ratings):\n",
    "    candies_given = [1] * num_students\n",
    "    \n",
    "    for i in range(1, num_students):\n",
    "        if i < len(ratings) and ratings[i] > ratings[i - 1]:\n",
    "            candies_given[i] = candies_given[i - 1] + 1\n",
    "    \n",
    "    for i in range(num_students - 2, -1, -1):\n",
    "        if i >= 0 and ratings[i] > ratings[i + 1]:\n",
    "            candies_given[i] = max(candies_given[i], candies_given[i + 1] + 1)\n",
    "\n",
    "    return sum(candies_given)\n",
    "\n",
    "print(distribute_candies(3, [1, 2, 2]))  \n",
    "print(distribute_candies(10, [2, 4, 2, 6, 1]))  \n",
    "print(distribute_candies(8, [2, 4, 2, 6, 1, 7, 8, 9]))  \n"
   ]
  },
  {
   "cell_type": "code",
   "execution_count": 8,
   "metadata": {},
   "outputs": [
    {
     "name": "stdout",
     "output_type": "stream",
     "text": [
      "200\n"
     ]
    }
   ],
   "source": [
    "def maximumPeople(towns_population, towns_locations, clouds_locations, clouds_ranges):\n",
    "    total_population = sum(towns_population)\n",
    "    max_people = 0\n",
    "\n",
    "    for i in range(len(clouds_locations)):\n",
    "        temp_population = 0\n",
    "        for j in range(len(towns_locations)):\n",
    "            if abs(towns_locations[j] - clouds_locations[i]) > clouds_ranges[i]:\n",
    "                temp_population += towns_population[j]\n",
    "        max_people = max(max_people, total_population - temp_population)\n",
    "\n",
    "    return max_people\n",
    "\n",
    "\n",
    "print(maximumPeople([100, 100, 100, 100, 100], [5, 100, 200, 300, 400], [141], [100]))"
   ]
  },
  {
   "cell_type": "code",
   "execution_count": 10,
   "metadata": {},
   "outputs": [
    {
     "name": "stdout",
     "output_type": "stream",
     "text": [
      "2\n"
     ]
    }
   ],
   "source": [
    "def pylons(k, arr):\n",
    "    n = len(arr)\n",
    "    plants = 0\n",
    "    i = 0\n",
    "\n",
    "    while i < n:\n",
    "        found = False\n",
    "        for j in range(min(n - 1, i + k - 1), i - 1, -1):\n",
    "            if arr[j] == 1:\n",
    "                plants += 1\n",
    "                i = j + k\n",
    "                found = True\n",
    "                break\n",
    "        if not found:\n",
    "            return -1\n",
    "\n",
    "    return plants\n",
    "\n",
    "\n",
    "print(pylons(2, [0, 1, 1, 1, 1, 0])) "
   ]
  }
 ],
 "metadata": {
  "kernelspec": {
   "display_name": "Python 3",
   "language": "python",
   "name": "python3"
  },
  "language_info": {
   "codemirror_mode": {
    "name": "ipython",
    "version": 3
   },
   "file_extension": ".py",
   "mimetype": "text/x-python",
   "name": "python",
   "nbconvert_exporter": "python",
   "pygments_lexer": "ipython3",
   "version": "3.12.0"
  }
 },
 "nbformat": 4,
 "nbformat_minor": 2
}
